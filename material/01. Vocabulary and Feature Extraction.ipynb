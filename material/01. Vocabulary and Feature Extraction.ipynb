{
 "cells": [
  {
   "cell_type": "markdown",
   "metadata": {},
   "source": [
    "# Vocabulary and Feature Extraction\n",
    "## Importing libraries\n",
    "<hr>"
   ]
  },
  {
   "cell_type": "code",
   "execution_count": 1,
   "metadata": {},
   "outputs": [
    {
     "name": "stderr",
     "output_type": "stream",
     "text": [
      "[nltk_data] Downloading package punkt to\n",
      "[nltk_data]     C:\\Users\\Parivi\\AppData\\Roaming\\nltk_data...\n",
      "[nltk_data]   Unzipping tokenizers\\punkt.zip.\n",
      "[nltk_data] Downloading package wordnet to\n",
      "[nltk_data]     C:\\Users\\Parivi\\AppData\\Roaming\\nltk_data...\n",
      "[nltk_data]   Unzipping corpora\\wordnet.zip.\n",
      "[nltk_data] Downloading package stopwords to\n",
      "[nltk_data]     C:\\Users\\Parivi\\AppData\\Roaming\\nltk_data...\n",
      "[nltk_data]   Package stopwords is already up-to-date!\n"
     ]
    }
   ],
   "source": [
    "import nltk\n",
    "import warnings\n",
    "import numpy as np\n",
    "import pandas as pd\n",
    "from string import punctuation\n",
    "from nltk.corpus import stopwords\n",
    "from nltk.stem import WordNetLemmatizer\n",
    "from sklearn.decomposition import TruncatedSVD\n",
    "from sklearn.feature_extraction.text import TfidfVectorizer\n",
    "\n",
    "nltk.download('punkt')\n",
    "nltk.download('wordnet')\n",
    "nltk.download('stopwords')\n",
    "\n",
    "stop_words = stopwords.words('english')\n",
    "custom = stop_words + list(punctuation)\n",
    "wordnet_lemmatizer = WordNetLemmatizer()\n",
    "\n",
    "warnings.filterwarnings(\"ignore\")"
   ]
  },
  {
   "cell_type": "markdown",
   "metadata": {},
   "source": [
    "## Defining a method to create Vocabulary\n",
    "<hr>"
   ]
  },
  {
   "cell_type": "code",
   "execution_count": 2,
   "metadata": {},
   "outputs": [],
   "source": [
    "def my_tokenizer(s):\n",
    "    '''\n",
    "    Creates a list of processed vocabulary tokens by\n",
    "    - converting to lower case\n",
    "    - tokenizing words\n",
    "    - removing words with length less than 2\n",
    "    - lemmatizing words\n",
    "    - removing stopwords and punctuations\n",
    "    - removing digits\n",
    "    \n",
    "    Args: string s, a word from the corpus\n",
    "    \n",
    "    Returns: list of tokens\n",
    "    '''\n",
    "    s = str.lower(s)\n",
    "    tokens = nltk.tokenize.word_tokenize(s)\n",
    "    #remove words lesser than 2 in length\n",
    "    tokens = [t for t in tokens if len(t)>2] \n",
    "    #lemmatize words\n",
    "    tokens = [wordnet_lemmatizer.lemmatize(t) for t in tokens]  \n",
    "    #remove stopwords and punctuation\n",
    "    tokens = [t for t in tokens if t not in custom]\n",
    "    # remove digits\n",
    "    tokens = [t for t in tokens if not any(c.isdigit() for c in t)] \n",
    "    \n",
    "    return tokens"
   ]
  },
  {
   "cell_type": "code",
   "execution_count": null,
   "metadata": {},
   "outputs": [],
   "source": [
    "Certificate of graduation from a Udacity Nanodegree program\n",
    "Proof you completed a career related program focused on technical skills"
   ]
  }
 ],
 "metadata": {
  "kernelspec": {
   "display_name": "Python 3",
   "language": "python",
   "name": "python3"
  },
  "language_info": {
   "codemirror_mode": {
    "name": "ipython",
    "version": 3
   },
   "file_extension": ".py",
   "mimetype": "text/x-python",
   "name": "python",
   "nbconvert_exporter": "python",
   "pygments_lexer": "ipython3",
   "version": "3.6.5"
  }
 },
 "nbformat": 4,
 "nbformat_minor": 2
}
